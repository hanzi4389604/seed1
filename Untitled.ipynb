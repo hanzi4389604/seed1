{
 "cells": [
  {
   "cell_type": "code",
   "execution_count": 12,
   "id": "7f73491f-8496-494f-a5b0-4e06fa95a55e",
   "metadata": {
    "tags": []
   },
   "outputs": [],
   "source": [
    "import os\n",
    "from glob import glob\n",
    "\n",
    "from torch.utils import data\n",
    "from torchvision import transforms\n",
    "from torchvision.datasets.folder import pil_loader\n",
    "\n",
    "\n",
    "####\n",
    "from torch.utils.data import Dataset, DataLoader\n",
    "import torchvision\n",
    "from torchvision.datasets import ImageFolder\n",
    "\n",
    "import os\n",
    "import numpy as np\n",
    "import sys\n",
    "from torch.utils.data import Dataset\n",
    "from skimage import transform,io\n",
    "\n",
    "\n"
   ]
  },
  {
   "cell_type": "code",
   "execution_count": 13,
   "id": "f97fb3aa-2991-4e7f-a168-fa88e1ed86d1",
   "metadata": {
    "tags": []
   },
   "outputs": [],
   "source": [
    "\n",
    "# 支持的图片格式\n",
    "IMG_EXTENSIONS = ['.npy','.jpg', '.jpeg', '.png', '.ppm', '.bmp', '.pgm', '.tif', '.tiff', 'webp']\n",
    "def has_file_allowed_extension(filename, extensions):\n",
    "    \"\"\"查看文件是否是支持的可扩展类型\n",
    "\n",
    "    Args:\n",
    "        filename (string): 文件路径\n",
    "        extensions (iterable of strings): 可扩展类型列表，即能接受的图像文件类型\n",
    "\n",
    "    Returns:\n",
    "        bool: True if the filename ends with one of given extensions\n",
    "    \"\"\"\n",
    "    filename_lower = filename.lower()\n",
    "    return any(filename_lower.endswith(ext) for ext in extensions) # 返回True或False列表\n",
    "\n",
    "\n"
   ]
  },
  {
   "cell_type": "code",
   "execution_count": 14,
   "id": "a232eaea-76c1-4e57-a83d-5470c0f6ea06",
   "metadata": {
    "tags": []
   },
   "outputs": [],
   "source": [
    "def make_dataset(dir, class_to_idx, extensions):\n",
    "    \"\"\"\n",
    "        返回形如[(图像路径, 该图像对应的类别索引值),(),...]\n",
    "    \"\"\"\n",
    "    images = []\n",
    "    dir = os.path.expanduser(dir)\n",
    "    for target in sorted(class_to_idx.keys()):\n",
    "        d = os.path.join(dir, target)\n",
    "        if not os.path.isdir(d):\n",
    "            continue\n",
    "\n",
    "        for root, _, fnames in sorted(os.walk(d)): #层层遍历文件夹，返回当前文件夹路径，存在的所有文件夹名，存在的所有文件名\n",
    "            for fname in sorted(fnames):\n",
    "                if has_file_allowed_extension(fname, extensions): #查看文件是否是支持的可扩展类型，是则继续\n",
    "                    path = os.path.join(root, fname)\n",
    "                    item = (path, class_to_idx[target])\n",
    "                    images.append(item)\n",
    "\n",
    "    return images"
   ]
  },
  {
   "cell_type": "code",
   "execution_count": 15,
   "id": "38aa80af-b60a-4e9b-9146-a384efa2aa70",
   "metadata": {
    "tags": []
   },
   "outputs": [],
   "source": [
    "def loadTifImage(path):\n",
    "    image = io.imread(path)\n",
    " #   image = np.load(path)\n",
    "    # print('image.shape=>',image.shape)\n",
    "#    image = transform.resize(image, (224, 224))     # 修改尺寸，仅能在此处修改\n",
    "    image = image/255.0             # 归一化\n",
    "    # print(image)\n",
    "    im = np.array(image, dtype=np.float32)\n",
    "    return im\n"
   ]
  },
  {
   "cell_type": "code",
   "execution_count": 16,
   "id": "5f6db3ed-14ce-4dae-b64c-0206ea31924f",
   "metadata": {
    "tags": []
   },
   "outputs": [],
   "source": [
    "class DatasetFolder(Dataset):\n",
    "    \"\"\"\n",
    "     Args:\n",
    "        root (string): 根目录路径\n",
    "        loader (callable): 根据给定的路径来加载样本的可调用函数\n",
    "        extensions (list[string]): 可扩展类型列表，即能接受的图像文件类型.\n",
    "        transform (callable, optional): 用于样本的transform函数，然后返回样本transform后的版本\n",
    "            E.g, ``transforms.RandomCrop`` for images.\n",
    "        target_transform (callable, optional): 用于样本标签的transform函数\n",
    "\n",
    "     Attributes:\n",
    "        classes (list): 类别名列表\n",
    "        class_to_idx (dict): 项目(class_name, class_index)字典,如{'cat': 0, 'dog': 1}\n",
    "        samples (list): (sample path, class_index) 元组列表，即(样本路径, 类别索引)\n",
    "        targets (list): 在数据集中每张图片的类索引值，为列表\n",
    "    \"\"\"\n",
    "\n",
    "    def __init__(self, root, loader=loadTifImage, extensions=IMG_EXTENSIONS, transform=None, target_transform=None):\n",
    "        classes, class_to_idx = self._find_classes(root)    # 得到类名和类索引，如['cat', 'dog']和{'cat': 0, 'dog': 1}\n",
    "        # 返回形如[(图像路径, 该图像对应的类别索引值),(),...]，即对每个图像进行标记\n",
    "        samples = make_dataset(root, class_to_idx, extensions)\n",
    "        if len(samples) == 0:\n",
    "            raise(RuntimeError(\"Found 0 files in subfolders of: \" + root + \"\\n\"\n",
    "                                                                           \"Supported extensions are: \" + \",\".join(extensions)))\n",
    "\n",
    "        self.root = root\n",
    "        self.loader = loader\n",
    "        self.extensions = extensions\n",
    "\n",
    "        self.classes = classes\n",
    "        self.class_to_idx = class_to_idx\n",
    "        self.samples = samples\n",
    "        self.targets = [s[1] for s in samples]  # 所有图像的类索引值组成的列表\n",
    "\n",
    "        self.transform = transform\n",
    "        self.target_transform = target_transform\n",
    "\n",
    "    def _find_classes(self, dir):\n",
    "        \"\"\"\n",
    "        在数据集中查找类文件夹。\n",
    "\n",
    "        Args:\n",
    "            dir (string): 根目录路径\n",
    "\n",
    "        Returns:\n",
    "            返回元组: (classes, class_to_idx)即(类名, 类索引)，其中classes即相应的目录名，如['cat', 'dog'];class_to_idx为形如{类名:类索引}的字典，如{'cat': 0, 'dog': 1}.\n",
    "\n",
    "        Ensures:\n",
    "            保证没有类名是另一个类目录的子目录\n",
    "        \"\"\"\n",
    "        if sys.version_info >= (3, 5):\n",
    "            # Faster and available in Python 3.5 and above\n",
    "            classes = [d.name for d in os.scandir(dir) if d.is_dir()]   # 获得根目录dir的所有第一层子目录名\n",
    "        else:\n",
    "            classes = [d for d in os.listdir(dir) if os.path.isdir(os.path.join(dir, d))]   # 效果和上面的一样，只是版本不同方法不同\n",
    "        classes.sort() #然后对类名进行排序\n",
    "        class_to_idx = {classes[i]: i for i in range(len(classes))}     # 然后将类名和索引值一一对应的到相应字典，如{'cat': 0, 'dog': 1}\n",
    "        return classes, class_to_idx    # 然后返回类名和类索引\n",
    "\n",
    "    def __getitem__(self, index):\n",
    "        \"\"\"\n",
    "        Args:\n",
    "            index (int): Index\n",
    "\n",
    "        Returns:\n",
    "            tuple: (sample, target) where target is class_index of the target class.\n",
    "        \"\"\"\n",
    "        path, target = self.samples[index]\n",
    "        sample = self.loader(path)  # 加载图片函数，可自定义为opencv，默认为PIL\n",
    "        if self.transform is not None:\n",
    "            sample = self.transform(sample)\n",
    "        if self.target_transform is not None:\n",
    "            target = self.target_transform(target)\n",
    "\n",
    "        return sample, target\n",
    "\n",
    "    def __len__(self):\n",
    "        return len(self.samples)\n",
    "\n",
    "    def __repr__(self):\n",
    "        fmt_str = 'Dataset ' + self.__class__.__name__ + '\\n'\n",
    "        fmt_str += '    Number of datapoints: {}\\n'.format(self.__len__())\n",
    "        fmt_str += '    Root Location: {}\\n'.format(self.root)\n",
    "        tmp = '    Transforms (if any): '\n",
    "        fmt_str += '{0}{1}\\n'.format(tmp, self.transform.__repr__().replace('\\n', '\\n' + ' ' * len(tmp)))\n",
    "        tmp = '    Target Transforms (if any): '\n",
    "        fmt_str += '{0}{1}'.format(tmp, self.target_transform.__repr__().replace('\\n', '\\n' + ' ' * len(tmp)))\n",
    "        return fmt_str"
   ]
  },
  {
   "cell_type": "code",
   "execution_count": null,
   "id": "33e468e9-2f7e-4c63-8548-ba5676cbea8b",
   "metadata": {},
   "outputs": [],
   "source": []
  },
  {
   "cell_type": "code",
   "execution_count": 17,
   "id": "04bd68fb-48a1-4a9e-a2fb-2d8ec09eafdf",
   "metadata": {
    "tags": []
   },
   "outputs": [],
   "source": [
    "\n",
    "\n",
    "train_augs = transforms.Compose([\n",
    "    transforms.ToTensor(),\n",
    "    transforms.Resize([224,224])])\n",
    "test_augs = transforms.Compose([\n",
    "    transforms.ToTensor(),\n",
    "    transforms.Resize([224,224])\n",
    "])\n",
    "######\n",
    "def custom_dataloaders(root='/home/l/20211218 practice', image_size=1080, batch_size=8, **kwargs):\n",
    "#    train_loader = CustomDataLoader(root, image_size, batch_size=batch_size, train=True, **kwargs)\n",
    "#    test_loader = CustomDataLoader(root, image_size, batch_size=batch_size, train=False, **kwargs)\n",
    "\n",
    "    ######\n",
    "    train_loader=DataLoader(DatasetFolder(os.path.join(root,\n",
    "            'hotdog1/train1'),transform=train_augs), batch_size,shuffle=True)\n",
    "    test_loader=DataLoader(DatasetFolder(os.path.join(root,\n",
    "            'hotdog1/test1'),transform=test_augs), batch_size)\n",
    "    #######\n",
    "    \n",
    "    return train_loader, test_loader"
   ]
  },
  {
   "cell_type": "code",
   "execution_count": 20,
   "id": "52a319ec-ddd6-488f-bb6d-13fa36ba0be9",
   "metadata": {
    "tags": []
   },
   "outputs": [
    {
     "ename": "TypeError",
     "evalue": "cannot unpack non-iterable function object",
     "output_type": "error",
     "traceback": [
      "\u001b[0;31m---------------------------------------------------------------------------\u001b[0m",
      "\u001b[0;31mTypeError\u001b[0m                                 Traceback (most recent call last)",
      "Cell \u001b[0;32mIn[20], line 1\u001b[0m\n\u001b[0;32m----> 1\u001b[0m train_loader, test_loader \u001b[38;5;241m=\u001b[39m custom_dataloaders\n",
      "\u001b[0;31mTypeError\u001b[0m: cannot unpack non-iterable function object"
     ]
    }
   ],
   "source": [
    "train_loader, test_loader = custom_dataloaders\n"
   ]
  },
  {
   "cell_type": "code",
   "execution_count": 21,
   "id": "d4a2c864-1004-4cb4-93bf-1e9a1776a33f",
   "metadata": {
    "tags": []
   },
   "outputs": [],
   "source": []
  },
  {
   "cell_type": "code",
   "execution_count": 22,
   "id": "0dbe8b52-802c-473a-a223-3e505cef1f1a",
   "metadata": {
    "tags": []
   },
   "outputs": [
    {
     "ename": "TypeError",
     "evalue": "cannot unpack non-iterable function object",
     "output_type": "error",
     "traceback": [
      "\u001b[0;31m---------------------------------------------------------------------------\u001b[0m",
      "\u001b[0;31mTypeError\u001b[0m                                 Traceback (most recent call last)",
      "Cell \u001b[0;32mIn[22], line 1\u001b[0m\n\u001b[0;32m----> 1\u001b[0m x,y \u001b[38;5;241m=\u001b[39m custom_dataloaders\n",
      "\u001b[0;31mTypeError\u001b[0m: cannot unpack non-iterable function object"
     ]
    }
   ],
   "source": [
    "x,y = custom_dataloaders"
   ]
  },
  {
   "cell_type": "code",
   "execution_count": null,
   "id": "c6fef3f6-7edf-4160-976a-d3c4ab6dd2be",
   "metadata": {},
   "outputs": [],
   "source": []
  },
  {
   "cell_type": "code",
   "execution_count": null,
   "id": "89e1c3db-51f6-43f9-8802-62b9b416dc4d",
   "metadata": {},
   "outputs": [],
   "source": [
    "def loadTifImage(path):\n",
    "    image = io.imread(path)\n",
    "    # print('image.shape=>',image.shape)\n",
    "    image = transform.resize(image, (224, 224))     # 修改尺寸，仅能在此处修改\n",
    "    image = image/255.0             # 归一化\n",
    "    # print(image)\n",
    "    im = np.array(image, dtype=np.float32)\n",
    "    return im\n",
    "\n",
    "np.load('/tmp/123.npy')\n",
    "resize and normalization"
   ]
  }
 ],
 "metadata": {
  "kernelspec": {
   "display_name": "Python 3 (ipykernel)",
   "language": "python",
   "name": "python3"
  },
  "language_info": {
   "codemirror_mode": {
    "name": "ipython",
    "version": 3
   },
   "file_extension": ".py",
   "mimetype": "text/x-python",
   "name": "python",
   "nbconvert_exporter": "python",
   "pygments_lexer": "ipython3",
   "version": "3.11.5"
  }
 },
 "nbformat": 4,
 "nbformat_minor": 5
}
