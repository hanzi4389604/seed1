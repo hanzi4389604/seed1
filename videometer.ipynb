{
 "cells": [
  {
   "cell_type": "code",
   "execution_count": 13,
   "id": "9a596ad2-5e1a-4c99-b744-974ba320f57e",
   "metadata": {},
   "outputs": [],
   "source": [
    "\n",
    "import os\n",
    "import numpy as np\n",
    "import sys\n",
    "from torch.utils.data import Dataset\n",
    "from skimage import transform,io\n",
    "\n",
    "# 支持的图片格式\n",
    "IMG_EXTENSIONS = ['.npy','.jpg', '.jpeg', '.png', '.ppm', '.bmp', '.pgm', '.tif', '.tiff', 'webp']\n",
    "\n"
   ]
  },
  {
   "cell_type": "code",
   "execution_count": 9,
   "id": "3673186c-c919-49ab-8057-05d33b173b0a",
   "metadata": {},
   "outputs": [],
   "source": [
    "def has_file_allowed_extension(filename, extensions):\n",
    "    \"\"\"查看文件是否是支持的可扩展类型\n",
    "\n",
    "    Args:\n",
    "        filename (string): 文件路径\n",
    "        extensions (iterable of strings): 可扩展类型列表，即能接受的图像文件类型\n",
    "\n",
    "    Returns:\n",
    "        bool: True if the filename ends with one of given extensions\n",
    "    \"\"\"\n",
    "    filename_lower = filename.lower()\n",
    "    return any(filename_lower.endswith(ext) for ext in extensions) # 返回True或False列表\n",
    "\n",
    "\n"
   ]
  },
  {
   "cell_type": "code",
   "execution_count": 10,
   "id": "53412968-82ce-45e4-bebd-ea3669a1da4a",
   "metadata": {
    "tags": []
   },
   "outputs": [],
   "source": [
    "def make_dataset(dir, class_to_idx, extensions):\n",
    "    \"\"\"\n",
    "        返回形如[(图像路径, 该图像对应的类别索引值),(),...]\n",
    "    \"\"\"\n",
    "    images = []\n",
    "    dir = os.path.expanduser(dir)\n",
    "    for target in sorted(class_to_idx.keys()):\n",
    "        d = os.path.join(dir, target)\n",
    "        if not os.path.isdir(d):\n",
    "            continue\n",
    "\n",
    "        for root, _, fnames in sorted(os.walk(d)): #层层遍历文件夹，返回当前文件夹路径，存在的所有文件夹名，存在的所有文件名\n",
    "            for fname in sorted(fnames):\n",
    "                if has_file_allowed_extension(fname, extensions): #查看文件是否是支持的可扩展类型，是则继续\n",
    "                    path = os.path.join(root, fname)\n",
    "                    item = (path, class_to_idx[target])\n",
    "                    images.append(item)\n",
    "\n",
    "    return images\n",
    "\n"
   ]
  },
  {
   "cell_type": "code",
   "execution_count": 11,
   "id": "f47c2a24-2d55-4252-b3a1-a622d69affda",
   "metadata": {
    "tags": []
   },
   "outputs": [],
   "source": [
    "def loadTifImage(path):\n",
    "    image = io.imread(path)\n",
    "    # print('image.shape=>',image.shape)\n",
    "    image = transform.resize(image, (224, 224))     # 修改尺寸，仅能在此处修改\n",
    "    image = image/255.0             # 归一化\n",
    "    # print(image)\n",
    "    im = np.array(image, dtype=np.float32)\n",
    "    return im\n",
    "\n",
    "np.load('/tmp/123.npy')\n",
    "resize and normalization"
   ]
  },
  {
   "cell_type": "code",
   "execution_count": 14,
   "id": "592b355b-e862-4927-9469-663bc2394389",
   "metadata": {
    "tags": []
   },
   "outputs": [],
   "source": [
    "class DatasetFolder(Dataset):\n",
    "    \"\"\"\n",
    "     Args:\n",
    "        root (string): 根目录路径\n",
    "        loader (callable): 根据给定的路径来加载样本的可调用函数\n",
    "        extensions (list[string]): 可扩展类型列表，即能接受的图像文件类型.\n",
    "        transform (callable, optional): 用于样本的transform函数，然后返回样本transform后的版本\n",
    "            E.g, ``transforms.RandomCrop`` for images.\n",
    "        target_transform (callable, optional): 用于样本标签的transform函数\n",
    "\n",
    "     Attributes:\n",
    "        classes (list): 类别名列表\n",
    "        class_to_idx (dict): 项目(class_name, class_index)字典,如{'cat': 0, 'dog': 1}\n",
    "        samples (list): (sample path, class_index) 元组列表，即(样本路径, 类别索引)\n",
    "        targets (list): 在数据集中每张图片的类索引值，为列表\n",
    "    \"\"\"\n",
    "\n",
    "    def __init__(self, root, loader=loadTifImage, extensions=IMG_EXTENSIONS, transform=None, target_transform=None):\n",
    "        classes, class_to_idx = self._find_classes(root)    # 得到类名和类索引，如['cat', 'dog']和{'cat': 0, 'dog': 1}\n",
    "        # 返回形如[(图像路径, 该图像对应的类别索引值),(),...]，即对每个图像进行标记\n",
    "        samples = make_dataset(root, class_to_idx, extensions)\n",
    "        if len(samples) == 0:\n",
    "            raise(RuntimeError(\"Found 0 files in subfolders of: \" + root + \"\\n\"\n",
    "                                                                           \"Supported extensions are: \" + \",\".join(extensions)))\n",
    "\n",
    "        self.root = root\n",
    "        self.loader = loader\n",
    "        self.extensions = extensions\n",
    "\n",
    "        self.classes = classes\n",
    "        self.class_to_idx = class_to_idx\n",
    "        self.samples = samples\n",
    "        self.targets = [s[1] for s in samples]  # 所有图像的类索引值组成的列表\n",
    "\n",
    "        self.transform = transform\n",
    "        self.target_transform = target_transform\n",
    "\n",
    "    def _find_classes(self, dir):\n",
    "        \"\"\"\n",
    "        在数据集中查找类文件夹。\n",
    "\n",
    "        Args:\n",
    "            dir (string): 根目录路径\n",
    "\n",
    "        Returns:\n",
    "            返回元组: (classes, class_to_idx)即(类名, 类索引)，其中classes即相应的目录名，如['cat', 'dog'];class_to_idx为形如{类名:类索引}的字典，如{'cat': 0, 'dog': 1}.\n",
    "\n",
    "        Ensures:\n",
    "            保证没有类名是另一个类目录的子目录\n",
    "        \"\"\"\n",
    "        if sys.version_info >= (3, 5):\n",
    "            # Faster and available in Python 3.5 and above\n",
    "            classes = [d.name for d in os.scandir(dir) if d.is_dir()]   # 获得根目录dir的所有第一层子目录名\n",
    "        else:\n",
    "            classes = [d for d in os.listdir(dir) if os.path.isdir(os.path.join(dir, d))]   # 效果和上面的一样，只是版本不同方法不同\n",
    "        classes.sort() #然后对类名进行排序\n",
    "        class_to_idx = {classes[i]: i for i in range(len(classes))}     # 然后将类名和索引值一一对应的到相应字典，如{'cat': 0, 'dog': 1}\n",
    "        return classes, class_to_idx    # 然后返回类名和类索引\n",
    "\n",
    "    def __getitem__(self, index):\n",
    "        \"\"\"\n",
    "        Args:\n",
    "            index (int): Index\n",
    "\n",
    "        Returns:\n",
    "            tuple: (sample, target) where target is class_index of the target class.\n",
    "        \"\"\"\n",
    "        path, target = self.samples[index]\n",
    "        sample = self.loader(path)  # 加载图片函数，可自定义为opencv，默认为PIL\n",
    "        if self.transform is not None:\n",
    "            sample = self.transform(sample)\n",
    "        if self.target_transform is not None:\n",
    "            target = self.target_transform(target)\n",
    "\n",
    "        return sample, target\n",
    "\n",
    "    def __len__(self):\n",
    "        return len(self.samples)\n",
    "\n",
    "    def __repr__(self):\n",
    "        fmt_str = 'Dataset ' + self.__class__.__name__ + '\\n'\n",
    "        fmt_str += '    Number of datapoints: {}\\n'.format(self.__len__())\n",
    "        fmt_str += '    Root Location: {}\\n'.format(self.root)\n",
    "        tmp = '    Transforms (if any): '\n",
    "        fmt_str += '{0}{1}\\n'.format(tmp, self.transform.__repr__().replace('\\n', '\\n' + ' ' * len(tmp)))\n",
    "        tmp = '    Target Transforms (if any): '\n",
    "        fmt_str += '{0}{1}'.format(tmp, self.target_transform.__repr__().replace('\\n', '\\n' + ' ' * len(tmp)))\n",
    "        return fmt_str"
   ]
  },
  {
   "cell_type": "code",
   "execution_count": 15,
   "id": "0d5f9580-8cf9-4384-a844-4529aee0078c",
   "metadata": {
    "tags": []
   },
   "outputs": [
    {
     "ename": "NameError",
     "evalue": "name 'train_loader' is not defined",
     "output_type": "error",
     "traceback": [
      "\u001b[0;31m---------------------------------------------------------------------------\u001b[0m",
      "\u001b[0;31mNameError\u001b[0m                                 Traceback (most recent call last)",
      "Cell \u001b[0;32mIn[15], line 1\u001b[0m\n\u001b[0;32m----> 1\u001b[0m \u001b[38;5;28;01mfor\u001b[39;00m x, y \u001b[38;5;129;01min\u001b[39;00m train_loader:\n\u001b[1;32m      2\u001b[0m     \u001b[38;5;28mprint\u001b[39m(\u001b[38;5;241m1\u001b[39m)\n",
      "\u001b[0;31mNameError\u001b[0m: name 'train_loader' is not defined"
     ]
    }
   ],
   "source": [
    "for x, y in train_loader:\n",
    "    print(1)"
   ]
  }
 ],
 "metadata": {
  "kernelspec": {
   "display_name": "Python 3 (ipykernel)",
   "language": "python",
   "name": "python3"
  },
  "language_info": {
   "codemirror_mode": {
    "name": "ipython",
    "version": 3
   },
   "file_extension": ".py",
   "mimetype": "text/x-python",
   "name": "python",
   "nbconvert_exporter": "python",
   "pygments_lexer": "ipython3",
   "version": "3.11.5"
  }
 },
 "nbformat": 4,
 "nbformat_minor": 5
}
